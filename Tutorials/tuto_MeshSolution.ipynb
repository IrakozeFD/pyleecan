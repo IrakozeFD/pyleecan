{
 "cells": [
  {
   "cell_type": "markdown",
   "metadata": {},
   "source": [
    "# How to use MeshSolution objects\n",
    "\n",
    "This tutorial shows the different possibilities allowed by the MeshSolution module. The main purpose of the module is to store Finite Element (FE) results in a way adapted to Pyleecan architecture. Today, it is mainly dedicated to store 2D electromagnetic solution computed with FEMM, but the goal is to generalize to any physics that could be included inside Pyleecan.\n",
    " \n",
    "The notebook related to this tutorial is available on [GitHub](https://github.com/Eomys/pyleecan/tree/master/Tutorials/tuto_MeshSolution.ipynb).\n",
    "\n",
    "This tutorial is for people who wish to understand in depth how this module works, and potentially contribute to the development of the code."
   ]
  },
  {
   "cell_type": "markdown",
   "metadata": {},
   "source": [
    "## Defining a Mesh object and plots\n",
    "\n",
    "At the date of this webinar, there are two different types of Mesh objects: MeshMat and MeshVTK. \n",
    "- MeshMat object is designed to ease postprocessing. It enables access to important values (connectivity, nodes) and to defined interpolation methods. (numpy.array)\n",
    "- MeshVTK is designed to ease vizualization, by relying on existing librairy pyvista.\n",
    "\n",
    "The bridge between the two type of class is available with dedicated convert methods. "
   ]
  },
  {
   "cell_type": "markdown",
   "metadata": {},
   "source": [
    "### Defining a MeshMat object\n",
    "\n",
    "Although every features should be automatically initialized/defined in Pyleecan, we are going to define by hand some of the objects in order to introduce the basics principle of the MeshSolution module."
   ]
  },
  {
   "cell_type": "code",
   "execution_count": 18,
   "metadata": {},
   "outputs": [
    {
     "name": "stdout",
     "output_type": "stream",
     "text": [
      "None\n"
     ]
    }
   ],
   "source": [
    "from pyleecan.Classes.MeshMat import MeshMat\n",
    "from pyleecan.Classes.PointMat import PointMat\n",
    "from pyleecan.Classes.CellMat import CellMat\n",
    "from pyleecan.Classes.MeshSolution import MeshSolution\n",
    "\n",
    "mesh = MeshMat(dimension=3)\n",
    "mesh.point = PointMat()\n",
    "mesh.point.add_point([0, 0, 0])\n",
    "mesh.point.add_point([0, 1, 0])\n",
    "mesh.point.add_point([1, 0, 0])\n",
    "mesh.point.add_point([1, 1, 0])\n",
    "mesh.point.add_point([2, 1, 0])\n",
    "\n",
    "mesh.cell[\"triangle\"] = CellMat(nb_pt_per_cell=3)\n",
    "mesh.add_cell([0, 1, 2], \"triangle\")\n",
    "mesh.add_cell([1, 2, 3], \"triangle\")\n",
    "mesh.add_cell([2, 3, 4], \"triangle\")\n",
    "\n",
    "MSol = MeshSolution(mesh=[mesh])\n",
    "\n",
    "MSol.plot_mesh()"
   ]
  },
  {
   "cell_type": "markdown",
   "metadata": {},
   "source": [
    "## Defining a SolutionMat object and plot\n",
    "The MeshSolution object allows to make the link between data (such as FE results) and the corresponding mesh stored in a Mesh object. Thus, all the plot and post-processing methods should be available in the MeshSolution class.\n",
    "\n",
    "Today, the main post-processing are the plots (such as plot_contour and plot_glyph).\n",
    "\n",
    "Here is an example with plot_contour: a scalar field is defined by giving its values all points of the mesh. "
   ]
  },
  {
   "cell_type": "code",
   "execution_count": 19,
   "metadata": {},
   "outputs": [],
   "source": [
    "import numpy as np\n",
    "from pyleecan.Classes.SolutionMat import SolutionMat\n",
    "\n",
    "axis_dct = dict()\n",
    "axis_dct[\"indice\"] = 5\n",
    "axis_dct[\"time\"] = 1\n",
    "field = np.array([[0,1,2,3,4]])\n",
    "\n",
    "my_solution = SolutionMat(\n",
    "    label=\"my_field\",\n",
    "    type_cell=\"point\",\n",
    "    field=field,\n",
    "    indice=[0, 1, 2, 3, 4],\n",
    "    axis=axis_dct,\n",
    ")\n",
    "MSol.solution.append(my_solution)\n",
    "MSol.plot_contour()"
   ]
  },
  {
   "cell_type": "markdown",
   "metadata": {},
   "source": [
    "The notion of axis allows to correctly extract values as it would be with SciDataTool objects -> same way to call methods in SolutionMat/SolutionData/SolutionVector. \n",
    "\n",
    "Using SolutionMat, one can also defined a vector field by using an additional axis \"component\"."
   ]
  },
  {
   "cell_type": "code",
   "execution_count": 20,
   "metadata": {},
   "outputs": [],
   "source": [
    "new_axis_dct = dict()\n",
    "\n",
    "new_axis_dct[\"time\"] = 10\n",
    "new_axis_dct[\"indice\"] = 5\n",
    "new_axis_dct[\"component\"] = 2\n",
    "vector = np.ones((10,5,2))\n",
    "\n",
    "my_vec_solution = SolutionMat(\n",
    "    label=\"my_vector\",\n",
    "    type_cell=\"point\",\n",
    "    field=vector,\n",
    "    indice=[0, 1, 2, 3, 4], # optional today, but field size must match with the number of point/cell.\n",
    "    axis=new_axis_dct,\n",
    ")\n",
    "MSol.solution.append(my_vec_solution)\n",
    "MSol.plot_glyph(label=\"my_vector\", is_point_arrow=True, factor=1/10)"
   ]
  },
  {
   "cell_type": "markdown",
   "metadata": {},
   "source": [
    "In this example, a 2D field is defined on a 3D mesh. The mesh and the field has distinct \"dimension\" attributes. It allows us to limit the memory space when possible. \n",
    "\n",
    "In order to have more details about the intialization of SolutionData/SolutionVector objects, see SciDataTool part and build_meshsolution() method from MagFEMM. "
   ]
  },
  {
   "cell_type": "markdown",
   "metadata": {},
   "source": [
    "## Import an external Mesh\n",
    "\n",
    "Today, Pyleecan mainly relies on the meshio librairy to convert any type of mesh file into a .vtk which is readable by pyvista. Any contribution on this topic is welcome."
   ]
  },
  {
   "cell_type": "code",
   "execution_count": 21,
   "metadata": {},
   "outputs": [
    {
     "name": "stderr",
     "output_type": "stream",
     "text": [
      "WARNING:root:VTK requires 3D vectors, but 2D vectors given. Appending 0 third component to gmsh:dim_tags.\n"
     ]
    },
    {
     "name": "stdout",
     "output_type": "stream",
     "text": [
      "None\n"
     ]
    }
   ],
   "source": [
    "#Convert to vtk with meshio\n",
    "import meshio\n",
    "m = meshio.Mesh.read('my_mesh.msh')\n",
    "m.write('my_mesh.vtk')\n",
    "\n",
    "# Import in Pyleecan with MeshVTK\n",
    "from pyleecan.Classes.MeshVTK import MeshVTK\n",
    "mesh_import = MeshVTK(\n",
    "    path=\"C:\\\\Users\\\\Raphael\\\\Desktop\\\\Git\\\\pyleecan_tests\\\\Tutorials\\\\\",\n",
    "    name=\"my_mesh\",\n",
    ")\n",
    "MSol_import = MeshSolution(mesh=[mesh_import])\n",
    "MSol_import.plot_mesh()"
   ]
  },
  {
   "cell_type": "markdown",
   "metadata": {},
   "source": [
    "# Demo with FEMM results\n",
    "The aim of this section is to show how MeshSolution object are used in Pyleecan to post-process FE results. "
   ]
  },
  {
   "cell_type": "code",
   "execution_count": 5,
   "metadata": {},
   "outputs": [
    {
     "name": "stderr",
     "output_type": "stream",
     "text": [
      "DEBUG:matplotlib.pyplot:Loaded backend module://ipykernel.pylab.backend_inline version unknown.\n",
      "DEBUG:matplotlib.pyplot:Loaded backend module://ipykernel.pylab.backend_inline version unknown.\n"
     ]
    }
   ],
   "source": [
    "# Run the FEMM simulation from Webinar 1\n",
    "from numpy import ones, pi, array, linspace, cos, sqrt\n",
    "from pyleecan.Classes.Simu1 import Simu1\n",
    "from pyleecan.Classes.InputCurrent import InputCurrent\n",
    "from pyleecan.Classes.MagFEMM import MagFEMM\n",
    "from os.path import join\n",
    "from pyleecan.Functions.load import load\n",
    "from pyleecan.definitions import DATA_DIR\n",
    "\n",
    "# Create the Simulation\n",
    "IPMSM_A = load(join(DATA_DIR, \"Machine\", \"IPMSM_A.json\"))\n",
    "simu_femm = Simu1(name=\"Webinar_1_MagFemm\", machine=IPMSM_A)   \n",
    "p = simu_femm.machine.stator.winding.p\n",
    "qs = simu_femm.machine.stator.winding.qs\n",
    "\n",
    "# Defining Simulation Input\n",
    "simu_femm.input = InputCurrent()\n",
    "\n",
    "# Rotor speed [rpm]\n",
    "simu_femm.input.N0 = 2000\n",
    "\n",
    "# time discretization [s]\n",
    "time = linspace(start=0, stop=60/simu_femm.input.N0, num=32*p, endpoint=False) # 16 timesteps\n",
    "simu_femm.input.time = time \n",
    "\n",
    "# Angular discretization along the airgap circonference for flux density calculation\n",
    "simu_femm.input.angle = linspace(start = 0, stop = 2*pi, num=2048, endpoint=False) # 2048 steps \n",
    "\n",
    "# Stator currents as a function of time, each column correspond to one phase [A]\n",
    "A_rms = 200 \n",
    "felec = p * simu_femm.input.N0 /60 # [Hz]\n",
    "rot_dir = simu_femm.machine.stator.comp_rot_dir()\n",
    "Phi0 = 140*pi/180  # Maximum Torque Per Amp\n",
    "\n",
    "Ia = (\n",
    "    A_rms\n",
    "    * sqrt(2)\n",
    "    * cos(2 * pi * felec * time + 0 * rot_dir * 2 * pi / qs + Phi0)\n",
    ")\n",
    "Ib = (\n",
    "    A_rms\n",
    "    * sqrt(2)\n",
    "    * cos(2 * pi * felec * time + 1 * rot_dir * 2 * pi / qs + Phi0)\n",
    ")\n",
    "Ic = (\n",
    "    A_rms\n",
    "    * sqrt(2)\n",
    "    * cos(2 * pi * felec * time + 2 * rot_dir * 2 * pi / qs + Phi0)\n",
    ")\n",
    "simu_femm.input.Is = array([Ia, Ib, Ic]).transpose()\n"
   ]
  },
  {
   "cell_type": "markdown",
   "metadata": {},
   "source": [
    "To enable the FE results saving: is_get_mesh "
   ]
  },
  {
   "cell_type": "code",
   "execution_count": 6,
   "metadata": {},
   "outputs": [
    {
     "name": "stdout",
     "output_type": "stream",
     "text": [
      "2020-10-21 14:21:14,191-INFO-Pyleecan.Simulation: Starting Magnetic module\n"
     ]
    }
   ],
   "source": [
    "from pyleecan.Classes.MagFEMM import MagFEMM\n",
    "\n",
    "simu_femm.mag = MagFEMM(\n",
    "    is_get_mesh=True, # TO save FEMM mesh and results into a MeshSolution object\n",
    "    type_BH_stator=0, \n",
    "    type_BH_rotor=0,\n",
    "    is_periodicity_a=True,\n",
    "    is_periodicity_t=True,\n",
    ")\n",
    "\n",
    "out_femm = simu_femm.run()"
   ]
  },
  {
   "cell_type": "markdown",
   "metadata": {},
   "source": [
    "Now, the magnetic FEA results can be plotted. Moreover, the solution can be extracted on a specific area."
   ]
  },
  {
   "cell_type": "code",
   "execution_count": 22,
   "metadata": {},
   "outputs": [
    {
     "name": "stderr",
     "output_type": "stream",
     "text": [
      "WARNING:root:VTK requires 3D points, but 2D points given. Appending 0 third component.\n"
     ]
    }
   ],
   "source": [
    "out_femm.mag.meshsolution.plot_contour()"
   ]
  },
  {
   "cell_type": "code",
   "execution_count": 23,
   "metadata": {},
   "outputs": [
    {
     "name": "stderr",
     "output_type": "stream",
     "text": [
      "WARNING:root:VTK requires 3D points, but 2D points given. Appending 0 third component.\n"
     ]
    }
   ],
   "source": [
    "out_femm.mag.meshsolution.plot_contour(label=\"H\", group_names=\"stator core\")"
   ]
  },
  {
   "cell_type": "code",
   "execution_count": 27,
   "metadata": {},
   "outputs": [
    {
     "name": "stderr",
     "output_type": "stream",
     "text": [
      "WARNING:root:VTK requires 3D points, but 2D points given. Appending 0 third component.\n"
     ]
    }
   ],
   "source": [
    "out_femm.mag.meshsolution.plot_glyph(label=\"H\", group_names=\"stator winding\")"
   ]
  },
  {
   "cell_type": "code",
   "execution_count": 10,
   "metadata": {
    "tags": []
   },
   "outputs": [
    {
     "name": "stderr",
     "output_type": "stream",
     "text": [
      "WARNING:root:VTK requires 3D points, but 2D points given. Appending 0 third component.\n"
     ]
    }
   ],
   "source": [
    "out_femm.mag.meshsolution.plot_contour(label=\"B\", group_names=\"airgap\")"
   ]
  },
  {
   "cell_type": "code",
   "execution_count": 35,
   "metadata": {},
   "outputs": [
    {
     "name": "stderr",
     "output_type": "stream",
     "text": [
      "WARNING:root:VTK requires 3D points, but 2D points given. Appending 0 third component.\n"
     ]
    },
    {
     "name": "stdout",
     "output_type": "stream",
     "text": [
      "None\n"
     ]
    }
   ],
   "source": [
    "out_femm.mag.meshsolution.plot_mesh(group_names=[\"stator core\", \"/\", \"airgap\", \"stator winding\"])"
   ]
  },
  {
   "cell_type": "markdown",
   "metadata": {},
   "source": [
    "# Extract and post-process data\n",
    "\n",
    "Several methods have been developed for the MeshSolution class in order to load the results regardless of the type of objects.  "
   ]
  },
  {
   "cell_type": "code",
   "execution_count": 58,
   "metadata": {},
   "outputs": [
    {
     "data": {
      "text/plain": [
       "(16, 9034, 2)"
      ]
     },
     "execution_count": 58,
     "metadata": {},
     "output_type": "execute_result"
    }
   ],
   "source": [
    "B = out_femm.mag.meshsolution.get_field(label='B')\n",
    "H = out_femm.mag.meshsolution.get_field(label='H')\n",
    "B.shape"
   ]
  },
  {
   "cell_type": "markdown",
   "metadata": {},
   "source": [
    "A new MeshSolution object can be created from the group definition. "
   ]
  },
  {
   "cell_type": "code",
   "execution_count": 59,
   "metadata": {},
   "outputs": [
    {
     "data": {
      "text/plain": [
       "(16, 3801, 2)"
      ]
     },
     "execution_count": 59,
     "metadata": {},
     "output_type": "execute_result"
    }
   ],
   "source": [
    "group_stator = out_femm.mag.meshsolution.get_group(\"stator\")\n",
    "B_s = group_stator.get_field(label='B')\n",
    "H_s = group_stator.get_field(label='H')\n",
    "B_s.shape"
   ]
  },
  {
   "cell_type": "markdown",
   "metadata": {},
   "source": [
    "Then, operations can be performed on the solution of this group, and plotted. It is worth noting that several type of Solution objects can co-exist in the same MeshSolution object."
   ]
  },
  {
   "cell_type": "code",
   "execution_count": 61,
   "metadata": {},
   "outputs": [
    {
     "name": "stderr",
     "output_type": "stream",
     "text": [
      "WARNING:root:VTK requires 3D points, but 2D points given. Appending 0 third component.\n"
     ]
    }
   ],
   "source": [
    "w_mag = np.multiply(B_s,H_s)/2\n",
    "\n",
    "w_axis = dict()\n",
    "w_axis[\"time\"] = 16\n",
    "w_axis[\"indice\"] = 3801\n",
    "w_axis[\"component\"] = 2\n",
    "\n",
    "my_vec_solution = SolutionMat(\n",
    "    label=\"w_mag\",\n",
    "    type_cell=\"triangle\",\n",
    "    field=w_mag,\n",
    "    axis=w_axis,\n",
    ")\n",
    "group_stator.solution.append(my_vec_solution)\n",
    "group_stator.plot_contour(label=\"w_mag\")"
   ]
  },
  {
   "cell_type": "markdown",
   "metadata": {},
   "source": [
    "Operations can also be performed on the mesh."
   ]
  },
  {
   "cell_type": "code",
   "execution_count": 75,
   "metadata": {},
   "outputs": [
    {
     "data": {
      "text/plain": [
       "(2653, 2)"
      ]
     },
     "execution_count": 75,
     "metadata": {},
     "output_type": "execute_result"
    }
   ],
   "source": [
    "nodes_s = group_stator.get_mesh().get_point()\n",
    "nodes_s.shape"
   ]
  },
  {
   "cell_type": "markdown",
   "metadata": {},
   "source": [
    "Then, rotate the mesh"
   ]
  },
  {
   "cell_type": "code",
   "execution_count": 76,
   "metadata": {},
   "outputs": [],
   "source": [
    "th = np.pi\n",
    "R = np.array([[np.cos(th), -np.sin(th)], [np.sin(th), np.cos(th)]])\n",
    "nodes_s = np.dot(nodes_s, R)\n",
    "group_stator.mesh[0].point.coordinate = nodes_s\n",
    "group_stator.plot_mesh()"
   ]
  },
  {
   "cell_type": "markdown",
   "metadata": {},
   "source": [
    "Previous plot still work !"
   ]
  },
  {
   "cell_type": "code",
   "execution_count": 78,
   "metadata": {},
   "outputs": [
    {
     "name": "stderr",
     "output_type": "stream",
     "text": [
      "WARNING:root:VTK requires 3D points, but 2D points given. Appending 0 third component.\n"
     ]
    }
   ],
   "source": [
    "group_stator.plot_contour(label=\"w_mag\")"
   ]
  },
  {
   "cell_type": "markdown",
   "metadata": {},
   "source": [
    "Thanks for following this tutorial ! :-)"
   ]
  }
 ],
 "metadata": {
  "celltoolbar": "Format de la Cellule Texte Brut",
  "kernelspec": {
   "display_name": "Python 3",
   "language": "python",
   "name": "python3"
  },
  "language_info": {
   "codemirror_mode": {
    "name": "ipython",
    "version": 3
   },
   "file_extension": ".py",
   "mimetype": "text/x-python",
   "name": "python",
   "nbconvert_exporter": "python",
   "pygments_lexer": "ipython3",
   "version": "3.7.4"
  }
 },
 "nbformat": 4,
 "nbformat_minor": 4
}